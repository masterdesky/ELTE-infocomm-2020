{
 "cells": [
  {
   "cell_type": "markdown",
   "metadata": {},
   "source": [
    "# Examine the geographical distance dependence of latency\n",
    "\n",
    "I've pinged websites of different universities around the world as it was advised in the task description. To measure the latency of websites to each university I used a custom ping command to send a specific number of (50) packages to universities with 32 bytes of data each per second.\n",
    "\n",
    "I downloaded the [following dataset](https://searchenginesmarketer.com/company/resources/university-college-list/), which lists names, locations and websites of the top, mostly US universities."
   ]
  },
  {
   "cell_type": "code",
   "execution_count": null,
   "metadata": {},
   "outputs": [],
   "source": [
    "import os\n",
    "import subprocess\n",
    "import numpy as np\n",
    "import pandas as pd\n",
    "from tqdm import tqdm, trange\n",
    "from datetime import datetime\n",
    "\n",
    "import seaborn as sns\n",
    "import matplotlib as mpl\n",
    "import matplotlib.cm as cm\n",
    "import matplotlib.pyplot as plt\n",
    "from mpl_toolkits.axes_grid1 import make_axes_locatable"
   ]
  },
  {
   "cell_type": "code",
   "execution_count": null,
   "metadata": {},
   "outputs": [],
   "source": [
    "inputs = './data/uni_lists/'\n",
    "data = './data/universities/'"
   ]
  },
  {
   "cell_type": "markdown",
   "metadata": {},
   "source": [
    "### Just some matplotlib and seaborn parameter tuning"
   ]
  },
  {
   "cell_type": "code",
   "execution_count": null,
   "metadata": {},
   "outputs": [],
   "source": [
    "fig_x = 30\n",
    "fig_y = 11\n",
    "axistitlesize = 22\n",
    "axisticksize = 18\n",
    "axislabelsize = 30\n",
    "axistextsize = 14\n",
    "axislegendsize = 25\n",
    "axiscbarfontsize = 15\n",
    "\n",
    "# Set axtick dimensions\n",
    "major_size = 6\n",
    "major_width = 1.2\n",
    "minor_size = 3\n",
    "minor_width = 1\n",
    "mpl.rcParams['xtick.major.size'] = major_size\n",
    "mpl.rcParams['xtick.major.width'] = major_width\n",
    "mpl.rcParams['xtick.minor.size'] = minor_size\n",
    "mpl.rcParams['xtick.minor.width'] = minor_width\n",
    "mpl.rcParams['ytick.major.size'] = major_size\n",
    "mpl.rcParams['ytick.major.width'] = major_width\n",
    "mpl.rcParams['ytick.minor.size'] = minor_size\n",
    "mpl.rcParams['ytick.minor.width'] = minor_width\n",
    "\n",
    "mpl.rcParams.update({'figure.autolayout': False})\n",
    "\n",
    "# Seaborn style settings\n",
    "sns.set_style({'axes.axisbelow': True,\n",
    "               'axes.edgecolor': '.8',\n",
    "               'axes.facecolor': 'white',\n",
    "               'axes.grid': True,\n",
    "               'axes.labelcolor': '.15',\n",
    "               'axes.spines.bottom': True,\n",
    "               'axes.spines.left': True,\n",
    "               'axes.spines.right': True,\n",
    "               'axes.spines.top': True,\n",
    "               'figure.facecolor': 'white',\n",
    "               'font.family': ['sans-serif'],\n",
    "               'font.sans-serif': ['Arial',\n",
    "                'DejaVu Sans',\n",
    "                'Liberation Sans',\n",
    "                'Bitstream Vera Sans',\n",
    "                'sans-serif'],\n",
    "               'grid.color': '.8',\n",
    "               'grid.linestyle': '--',\n",
    "               'image.cmap': 'rocket',\n",
    "               'lines.solid_capstyle': 'round',\n",
    "               'patch.edgecolor': 'w',\n",
    "               'patch.force_edgecolor': True,\n",
    "               'text.color': '.15',\n",
    "               'xtick.bottom': True,\n",
    "               'xtick.color': '.15',\n",
    "               'xtick.direction': 'in',\n",
    "               'xtick.top': True,\n",
    "               'ytick.color': '.15',\n",
    "               'ytick.direction': 'in',\n",
    "               'ytick.left': True,\n",
    "               'ytick.right': True})\n",
    "\n",
    "# Colorpalettes, colormaps, etc.\n",
    "sns.set_palette(palette='rocket')\n",
    "rocket_cmap = sns.color_palette('rocket', as_cmap=True)"
   ]
  },
  {
   "cell_type": "code",
   "execution_count": null,
   "metadata": {},
   "outputs": [],
   "source": [
    "os.listdir(inputs)"
   ]
  },
  {
   "cell_type": "markdown",
   "metadata": {},
   "source": [
    "## 1. Gather university data"
   ]
  },
  {
   "cell_type": "code",
   "execution_count": null,
   "metadata": {},
   "outputs": [],
   "source": [
    "df = pd.read_csv(inputs + 'university_sites.csv')\n",
    "df = df.drop_duplicates('School Name')\n",
    "df = df[~(df['City'] == '(multiple locations)')]\n",
    "df['URL'] = df['URL'].apply(lambda x: x.split('//')[1].strip('/'))"
   ]
  },
  {
   "cell_type": "code",
   "execution_count": null,
   "metadata": {},
   "outputs": [],
   "source": [
    "display(df.head())\n",
    "display(df.tail())"
   ]
  },
  {
   "cell_type": "markdown",
   "metadata": {},
   "source": [
    "### Add locational data"
   ]
  },
  {
   "cell_type": "code",
   "execution_count": null,
   "metadata": {},
   "outputs": [],
   "source": [
    "from geopy.geocoders import Nominatim\n",
    "geolocator = Nominatim(user_agent='ping')"
   ]
  },
  {
   "cell_type": "code",
   "execution_count": null,
   "metadata": {},
   "outputs": [],
   "source": [
    "cities = list(df['City'])\n",
    "states = list(df['State'])\n",
    "lat = []\n",
    "long = []\n",
    "pbar = tqdm(cities)\n",
    "for c in pbar:\n",
    "    #c, s = cities[i], states[i]\n",
    "    pbar.set_description(\"Processing %s\" % c)\n",
    "    loc = geolocator.geocode(c)#'{0}, {1}'.format(c,s))\n",
    "    if type(loc) != type(None):\n",
    "        lat.append(loc.latitude)\n",
    "        long.append(loc.longitude)\n",
    "    else:\n",
    "        lat.append(0)\n",
    "        long.append(0)"
   ]
  },
  {
   "cell_type": "code",
   "execution_count": null,
   "metadata": {},
   "outputs": [],
   "source": [
    "def haversine(X, Y, x_0=0, y_0=0,\n",
    "              R=1):\n",
    "    \"\"\"\n",
    "    Calculates the Haversine formula for every point on a given\n",
    "    domain by considering R = 1 by default.\n",
    "    \n",
    "    Parameters\n",
    "    ----------\n",
    "    X : numpy.ndarray\n",
    "        X coordinates of the domain.\n",
    "    Y : numpy.ndarray\n",
    "        Y coordinates of the domain.\n",
    "    \n",
    "    Returns\n",
    "    -------\n",
    "    d : numpy.ndarray\n",
    "        Distance matrix of the grid of the input domain.\n",
    "    \"\"\"\n",
    "    d = 2 * R * np.arcsin(np.sqrt(np.sin((X - x_0)/2)**2 + np.cos(X) * np.cos(x_0) * np.sin((Y - y_0)/2)**2))\n",
    "    \n",
    "    return d"
   ]
  },
  {
   "cell_type": "code",
   "execution_count": null,
   "metadata": {},
   "outputs": [],
   "source": [
    "# Create a copy of the old array for reusability\n",
    "df_n = df.copy()\n",
    "\n",
    "lat_arr = np.array(lat)\n",
    "long_arr = np.array(long)\n",
    "# Add coordinates to \n",
    "df_n['Latitude'] = lat_arr\n",
    "df_n['Longitude'] = long_arr\n",
    "\n",
    "# Create a mask for faulty entries\n",
    "bad_coord_mask = (lat_arr == 0)\n",
    "# Drop rows with lat, long == 0\n",
    "df_n = df_n[~bad_coord_mask]\n",
    "# Calculate distance from Budapest\n",
    "# X: latitude, Y: longitude\n",
    "df_n['Distance'] = haversine(X=np.deg2rad(df_n['Latitude']),\n",
    "                             Y=np.deg2rad(df_n['Longitude']),\n",
    "                             x_0=np.deg2rad(47.497913),\n",
    "                             y_0=np.deg2rad(19.040236),\n",
    "                             R=6378000)\n",
    "\n",
    "df_n = df_n.reset_index(drop=True)"
   ]
  },
  {
   "cell_type": "code",
   "execution_count": null,
   "metadata": {},
   "outputs": [],
   "source": [
    "display(df_n.head())\n",
    "display(df_n.tail())"
   ]
  },
  {
   "cell_type": "markdown",
   "metadata": {},
   "source": [
    "### Ping addresses"
   ]
  },
  {
   "cell_type": "code",
   "execution_count": null,
   "metadata": {},
   "outputs": [],
   "source": [
    "n_packet = 50\n",
    "packet_size = 32\n",
    "interval = 1"
   ]
  },
  {
   "cell_type": "code",
   "execution_count": null,
   "metadata": {},
   "outputs": [],
   "source": [
    "%%time\n",
    "# Takes lot of time to write all files and ping all sites!\n",
    "for target in df_n['URL']:\n",
    "    ping_command = 'ping -D -c {0} -i {1} -s {2} {3}'.format(n_packet, interval, packet_size, target)\n",
    "    output = \"{0}{1}.txt\".format(data, target)\n",
    "    with open(output, 'w') as f:\n",
    "        # Using `Popen` here to run pings \"parallel\"\n",
    "        #print('Pinging {}...'.format(target))\n",
    "        process = subprocess.Popen(ping_command.split(' '), stdout=f)"
   ]
  },
  {
   "cell_type": "markdown",
   "metadata": {},
   "source": [
    "There are hunderds of URLs in this list, which simply cannot be pinged, or cannot be reached."
   ]
  },
  {
   "cell_type": "markdown",
   "metadata": {},
   "source": [
    "## 2. Preprocess data"
   ]
  },
  {
   "cell_type": "markdown",
   "metadata": {},
   "source": [
    "### Read ping files"
   ]
  },
  {
   "cell_type": "code",
   "execution_count": null,
   "metadata": {},
   "outputs": [],
   "source": [
    "def read_ping_file(file_name):\n",
    "    \n",
    "    dc = []\n",
    "    with open(data + file_name, 'r') as f:\n",
    "        header = f.readline()\n",
    "        if header != '':\n",
    "            print(header)\n",
    "        for i, line in enumerate(f):\n",
    "            # Skip faulty lines\n",
    "            if\\\n",
    "            ('unreachable' in line.lower()\n",
    "             or\n",
    "             'packet filtered' in line.lower()\n",
    "             or\n",
    "             'time to live exceeded' in line.lower()\n",
    "             or\n",
    "             'destination host prohibited' in line.lower()\n",
    "            ):\n",
    "                continue\n",
    "            if line == '\\n':\n",
    "                break\n",
    "            line = line.replace(' (DUP!)', '')\n",
    "            elems = line.split(' ')\n",
    "            try:\n",
    "                ts = float(elems[0].strip('[]'))        # Unix timestamp\n",
    "                ts = datetime.utcfromtimestamp(ts)      # Create datetime values\n",
    "                b = float(elems[1])                     # Packet size used to ping host\n",
    "                h = header.split(' ')[1]                # Pinged host's name\n",
    "                hip = header.split(' ')[2].strip('()')  # Pinged host's IP address\n",
    "                p = float(elems[-2].strip('time='))     # Ping in ms\n",
    "                dc.append([ts, b, h, hip, p])\n",
    "            except:\n",
    "                print(line)\n",
    "    df = pd.DataFrame(data=dc, columns=['Timestamp',\n",
    "                                        'Packet size [byte]',\n",
    "                                        'Host name',\n",
    "                                        'Host IP',\n",
    "                                        'Ping [ms]'])\n",
    "    return df, header"
   ]
  },
  {
   "cell_type": "code",
   "execution_count": null,
   "metadata": {},
   "outputs": [],
   "source": [
    "dfs = {}\n",
    "headers = [{}]\n",
    "urls = []\n",
    "\n",
    "for i, file in enumerate(sorted(os.listdir(data))):\n",
    "    df_c, header_c = read_ping_file(file_name=file)\n",
    "    dfs[file.strip('.txt')] = df_c\n",
    "    headers[file.strip('.txt')] = header_c"
   ]
  },
  {
   "cell_type": "code",
   "execution_count": null,
   "metadata": {},
   "outputs": [],
   "source": [
    "# Example\n",
    "display(dfs['aamu.edu'].head())\n",
    "display(dfs['aamu.edu'].tail())"
   ]
  },
  {
   "cell_type": "code",
   "execution_count": null,
   "metadata": {},
   "outputs": [],
   "source": [
    "# Select the pre-final set of indeces, where locational\n",
    "# data is available, also the host could be at least reached\n",
    "final_idx = np.where(np.array(list(headers.values())) != '')[0]"
   ]
  },
  {
   "cell_type": "code",
   "execution_count": null,
   "metadata": {},
   "outputs": [],
   "source": [
    "# Create a copy of the old array for reusability\n",
    "df_f = df_n.copy()\n",
    "\n",
    "# Create the final dataframe containing only the\n",
    "# usable rows\n",
    "df_f = df_f.iloc[final_idx]"
   ]
  },
  {
   "cell_type": "code",
   "execution_count": null,
   "metadata": {},
   "outputs": [],
   "source": [
    "display(df_f.head())\n",
    "display(df_f.tail())"
   ]
  },
  {
   "cell_type": "markdown",
   "metadata": {},
   "source": [
    "### Add ping mean values to final dataframe"
   ]
  },
  {
   "cell_type": "code",
   "execution_count": null,
   "metadata": {},
   "outputs": [],
   "source": [
    "pings = []\n",
    "for url in df_f['URL']:\n",
    "    try:\n",
    "        pings.append(dfs[url]['Ping [ms]'].mean())\n",
    "    except:\n",
    "        pings.append(0)\n",
    "df_f['Ping [ms]'] = pings\n",
    "# There are still rows, which belons to hosts, that could be reached,\n",
    "# but didn't give any response because of various reasons.\n",
    "# These entries should be dropped also, sadly.\n",
    "df_f = df_f.dropna(how='any')\n",
    "df_f = df_f[(df_f['Ping [ms]'] != 0)]"
   ]
  },
  {
   "cell_type": "markdown",
   "metadata": {},
   "source": [
    "### Create appropriate date ticks"
   ]
  },
  {
   "cell_type": "code",
   "execution_count": null,
   "metadata": {},
   "outputs": [],
   "source": [
    "from matplotlib import ticker\n",
    "import matplotlib.dates as mdates\n",
    "import matplotlib.ticker as mticker\n",
    "import matplotlib.ticker as plticker"
   ]
  },
  {
   "cell_type": "markdown",
   "metadata": {},
   "source": [
    "## 3. Visualize distance dependence of latency"
   ]
  },
  {
   "cell_type": "code",
   "execution_count": null,
   "metadata": {},
   "outputs": [],
   "source": [
    "def visualize_distance_ping(df, base=5.0):\n",
    "    \n",
    "    fig, axes = plt.subplots(figsize=(fig_x,fig_y),\n",
    "                             facecolor='black', subplot_kw={'facecolor' : 'black'})\n",
    "    \n",
    "    sr = 8\n",
    "    x = df['Distance']\n",
    "    y = df['Ping [ms]']\n",
    "    c = cm.magma(y/y.max()/2 + 0.5)\n",
    "    axes.scatter(x/1000, y,\n",
    "                 c=c, ec='None', alpha=0.4, s=sr**2)\n",
    "    \n",
    "    # X ticks denoting Distance    \n",
    "    axes.set_xlabel('Distance [km]', fontsize=axislabelsize, fontweight='bold',\n",
    "                    color='white')\n",
    "    axes.tick_params(axis='x', which='major', labelsize=axisticksize,\n",
    "                     colors='white', pad=10, labelrotation=42)\n",
    "    \n",
    "    # Y ticks denoting ping in [ms]\n",
    "    loc = plticker.MultipleLocator(base=base) # this locator puts ticks at regular intervals\n",
    "    axes.yaxis.set_major_locator(loc)\n",
    "    axes.set_ylabel('Ping [ms]', fontsize=axislabelsize, fontweight='bold',\n",
    "                    color='white')\n",
    "    axes.tick_params(axis='y', which='major', labelsize=axisticksize,\n",
    "                     colors='white', pad=10)\n",
    "\n",
    "    plt.show()"
   ]
  },
  {
   "cell_type": "code",
   "execution_count": null,
   "metadata": {},
   "outputs": [],
   "source": [
    "visualize_distance_ping(df=df_f, base=10)"
   ]
  },
  {
   "cell_type": "markdown",
   "metadata": {},
   "source": [
    "So there are maybe some kind of trend in the data, where the point cloud \"tilts to the right\", but that's probably just a slightly visual effect. Measuring mostly US universities doesn't yielded us any good results, because most of their networks seems pretty choppy."
   ]
  },
  {
   "cell_type": "code",
   "execution_count": null,
   "metadata": {},
   "outputs": [],
   "source": []
  }
 ],
 "metadata": {
  "kernelspec": {
   "display_name": "Python 3 (ipykernel)",
   "language": "python",
   "name": "python3"
  },
  "language_info": {
   "codemirror_mode": {
    "name": "ipython",
    "version": 3
   },
   "file_extension": ".py",
   "mimetype": "text/x-python",
   "name": "python",
   "nbconvert_exporter": "python",
   "pygments_lexer": "ipython3",
   "version": "3.9.10"
  }
 },
 "nbformat": 4,
 "nbformat_minor": 4
}
