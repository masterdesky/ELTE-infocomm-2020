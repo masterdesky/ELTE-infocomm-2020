{
 "cells": [
  {
   "cell_type": "markdown",
   "metadata": {},
   "source": [
    "# Visualize longer timeseries outputted by the UNIX `ping` command\n",
    "\n",
    "I've pinged the immigration site and official site of the goverment of Canada during the most intensive 2 days of the US presidential elections. My observation wasn't constant, but I've tried to made the measurement as continuous as possible. I've also measured the latency of the subdomain `physics.my.pebble.host` (IP `217.182.158.180`) for a single day. I've created a custom `bash` script to be able to ping an arbitrary target IP/domain, which is the following:\n",
    "\n",
    "```sh\n",
    "#!/usr/bin/bash\n",
    "PATH=\"/home/masterdesky/Documents/GitHub/ELTE_Info_Com_Mod_2021/practice/data/\"\n",
    "\n",
    "while test $# -gt 0; do\n",
    "  case \"$1\" in\n",
    "    -h|--help)\n",
    "      echo \"ping - attempt to capture frames\"\n",
    "      echo \" \"\n",
    "      echo \"ping [options]\"\n",
    "      echo \" \"\n",
    "      echo \"options:\"\n",
    "      echo \"-h, --help                show brief help\"\n",
    "      echo \"-t, --target=TARGET       specify the target to be pinged\"\n",
    "      echo \"-o, --output=OUTPUT       specify the output file's name\"\n",
    "      exit 0\n",
    "      ;;\n",
    "    -t)\n",
    "      shift\n",
    "      if test $# -gt 0; then\n",
    "        export TARGET=$1\n",
    "      else\n",
    "        echo \"no target specified\"\n",
    "        exit 1\n",
    "      fi\n",
    "      shift\n",
    "      ;;\n",
    "    --target*)\n",
    "      export TARGET=`echo $1'`\n",
    "      shift\n",
    "      ;;\n",
    "    -o)\n",
    "      shift\n",
    "      if test $# -gt 0; then\n",
    "        export OUTPUT=$1\n",
    "      else\n",
    "        echo \"no output file specified\"\n",
    "        exit 1\n",
    "      fi\n",
    "      shift\n",
    "      ;;\n",
    "    --output*)\n",
    "      export OUTPUT=`echo $1`\n",
    "      shift\n",
    "      ;;\n",
    "    *)\n",
    "      break\n",
    "      ;;\n",
    "  esac\n",
    "done\n",
    "\n",
    "echo \"Pinging target... $TARGET\"\n",
    "echo \"Writing files to $PATH$OUTPUT\"\n",
    "\n",
    "/usr/bin/ping -D -i 1 -s 32 \"$TARGET\" |& /usr/bin/tee \"$PATH$OUTPUT\"\n",
    "```"
   ]
  },
  {
   "cell_type": "code",
   "execution_count": null,
   "metadata": {},
   "outputs": [],
   "source": [
    "import os\n",
    "import numpy as np\n",
    "import pandas as pd\n",
    "from datetime import datetime\n",
    "\n",
    "import seaborn as sns\n",
    "import matplotlib as mpl\n",
    "import matplotlib.cm as cm\n",
    "import matplotlib.pyplot as plt\n",
    "from mpl_toolkits.axes_grid1 import make_axes_locatable"
   ]
  },
  {
   "cell_type": "code",
   "execution_count": null,
   "metadata": {},
   "outputs": [],
   "source": [
    "data = './data/'"
   ]
  },
  {
   "cell_type": "markdown",
   "metadata": {},
   "source": [
    "### Just some matplotlib and seaborn parameter tuning"
   ]
  },
  {
   "cell_type": "code",
   "execution_count": null,
   "metadata": {},
   "outputs": [],
   "source": [
    "fig_x = 30\n",
    "fig_y = 11\n",
    "axistitlesize = 22\n",
    "axisticksize_date = 13\n",
    "axisticksize_y = 18\n",
    "axislabelsize = 30\n",
    "axistextsize = 14\n",
    "axislegendsize = 25\n",
    "axiscbarfontsize = 15\n",
    "\n",
    "# Set axtick dimensions\n",
    "major_size = 6\n",
    "major_width = 1.2\n",
    "minor_size = 3\n",
    "minor_width = 1\n",
    "mpl.rcParams['xtick.major.size'] = major_size\n",
    "mpl.rcParams['xtick.major.width'] = major_width\n",
    "mpl.rcParams['xtick.minor.size'] = minor_size\n",
    "mpl.rcParams['xtick.minor.width'] = minor_width\n",
    "mpl.rcParams['ytick.major.size'] = major_size\n",
    "mpl.rcParams['ytick.major.width'] = major_width\n",
    "mpl.rcParams['ytick.minor.size'] = minor_size\n",
    "mpl.rcParams['ytick.minor.width'] = minor_width\n",
    "\n",
    "mpl.rcParams.update({'figure.autolayout': False})\n",
    "\n",
    "# Seaborn style settings\n",
    "sns.set_style({'axes.axisbelow': True,\n",
    "               'axes.edgecolor': '.8',\n",
    "               'axes.facecolor': 'white',\n",
    "               'axes.grid': True,\n",
    "               'axes.labelcolor': '.15',\n",
    "               'axes.spines.bottom': True,\n",
    "               'axes.spines.left': True,\n",
    "               'axes.spines.right': True,\n",
    "               'axes.spines.top': True,\n",
    "               'figure.facecolor': 'white',\n",
    "               'font.family': ['sans-serif'],\n",
    "               'font.sans-serif': ['Arial',\n",
    "                'DejaVu Sans',\n",
    "                'Liberation Sans',\n",
    "                'Bitstream Vera Sans',\n",
    "                'sans-serif'],\n",
    "               'grid.color': '.8',\n",
    "               'grid.linestyle': '--',\n",
    "               'image.cmap': 'rocket',\n",
    "               'lines.solid_capstyle': 'round',\n",
    "               'patch.edgecolor': 'w',\n",
    "               'patch.force_edgecolor': True,\n",
    "               'text.color': '.15',\n",
    "               'xtick.bottom': True,\n",
    "               'xtick.color': '.15',\n",
    "               'xtick.direction': 'in',\n",
    "               'xtick.top': True,\n",
    "               'ytick.color': '.15',\n",
    "               'ytick.direction': 'in',\n",
    "               'ytick.left': True,\n",
    "               'ytick.right': True})\n",
    "\n",
    "# Colorpalettes, colormaps, etc.\n",
    "sns.set_palette(palette='rocket')\n",
    "rocket_cmap = sns.color_palette('rocket', as_cmap=True)"
   ]
  },
  {
   "cell_type": "markdown",
   "metadata": {},
   "source": [
    "## 1. Preprocess data"
   ]
  },
  {
   "cell_type": "markdown",
   "metadata": {},
   "source": [
    "### Read ping files"
   ]
  },
  {
   "cell_type": "code",
   "execution_count": null,
   "metadata": {},
   "outputs": [],
   "source": [
    "os.listdir(data)"
   ]
  },
  {
   "cell_type": "code",
   "execution_count": null,
   "metadata": {},
   "outputs": [],
   "source": [
    "def read_ping_file(file_name):\n",
    "    \n",
    "    dc = []\n",
    "    with open(data + file_name, 'r') as f:\n",
    "        header = f.readline()\n",
    "        if header != '':\n",
    "            print(header)\n",
    "        for i, line in enumerate(f):\n",
    "            # Skip faulty lines\n",
    "            if\\\n",
    "            ('unreachable' in line.lower()\n",
    "             or\n",
    "             'packet filtered' in line.lower()\n",
    "             or\n",
    "             'time to live exceeded' in line.lower()\n",
    "             or\n",
    "             'destination host prohibited' in line.lower()\n",
    "            ):\n",
    "                continue\n",
    "            if line == '\\n':\n",
    "                break\n",
    "            line = line.replace(' (DUP!)', '')\n",
    "            elems = line.split(' ')\n",
    "            try:\n",
    "                ts = float(elems[0].strip('[]'))        # Unix timestamp\n",
    "                ts = datetime.utcfromtimestamp(ts)      # Create datetime values\n",
    "                b = float(elems[1])                     # Packet size used to ping host\n",
    "                h = header.split(' ')[1]                # Pinged host's name\n",
    "                hip = header.split(' ')[2].strip('()')  # Pinged host's IP address\n",
    "                p = float(elems[-2].strip('time='))     # Ping in ms\n",
    "                dc.append([ts, b, h, hip, p])\n",
    "            except:\n",
    "                print(line)\n",
    "    df = pd.DataFrame(data=dc, columns=['Timestamp',\n",
    "                                        'Packet size [byte]',\n",
    "                                        'Host name',\n",
    "                                        'Host IP',\n",
    "                                        'Ping [ms]'])\n",
    "    return df, header"
   ]
  },
  {
   "cell_type": "code",
   "execution_count": null,
   "metadata": {},
   "outputs": [],
   "source": [
    "# canada.ca\n",
    "df_1_1, header_1 = read_ping_file(file_name='canada_ca_ping.txt')\n",
    "df_1_2, _ = read_ping_file(file_name='canada_ca_ping_2.txt')\n",
    "df_1 = pd.concat([df_1_1, df_1_2], ignore_index=True)\n",
    "\n",
    "# immigration.ca\n",
    "df_2_1, header_2 = read_ping_file(file_name='immigration_ca_ping.txt')\n",
    "df_2_2, _ = read_ping_file(file_name='immigration_ca_ping_2.txt')\n",
    "df_2 = pd.concat([df_2_1, df_2_2], ignore_index=True)\n",
    "\n",
    "# FizikaMC\n",
    "df_3_1, header_3 = read_ping_file(file_name='fizika_mc.txt')\n",
    "df_3_2, _ = read_ping_file(file_name='fizika_mc_2.txt')\n",
    "df_3_3, _ = read_ping_file(file_name='fizika_mc_3.txt')\n",
    "df_3 = pd.concat([df_3_1, df_3_2, df_3_3], ignore_index=True)"
   ]
  },
  {
   "cell_type": "markdown",
   "metadata": {},
   "source": [
    "### Create appropriate date ticks"
   ]
  },
  {
   "cell_type": "code",
   "execution_count": null,
   "metadata": {},
   "outputs": [],
   "source": [
    "from matplotlib import ticker\n",
    "import matplotlib.dates as mdates\n",
    "import matplotlib.ticker as mticker\n",
    "import matplotlib.ticker as plticker"
   ]
  },
  {
   "cell_type": "code",
   "execution_count": null,
   "metadata": {},
   "outputs": [],
   "source": [
    "date_format = mdates.DateFormatter('%b %d \\'%y - %H:%M')"
   ]
  },
  {
   "cell_type": "code",
   "execution_count": null,
   "metadata": {},
   "outputs": [],
   "source": [
    "def create_date_ticks(df, N=22):\n",
    "    \"\"\"\n",
    "    Create a list of string date ticks to use them on a figure.\n",
    "    \"\"\"\n",
    "    dates = df['Timestamp']\n",
    "    date_ticks = pd.date_range(min(dates), max(dates), periods=N).to_numpy()\n",
    "    \n",
    "    return date_ticks"
   ]
  },
  {
   "cell_type": "markdown",
   "metadata": {},
   "source": [
    "## 2./a. Visualize time series of individual pings"
   ]
  },
  {
   "cell_type": "code",
   "execution_count": null,
   "metadata": {},
   "outputs": [],
   "source": [
    "def visualize_ping_series(df, header=None,\n",
    "                          base=5.0):\n",
    "    \n",
    "    fig, axes = plt.subplots(figsize=(fig_x,fig_y),\n",
    "                             facecolor='black', subplot_kw={'facecolor' : 'black'})\n",
    "    \n",
    "    sr = 3\n",
    "    x = df['Timestamp']\n",
    "    y = df['Ping [ms]']\n",
    "    c = cm.magma(y/y.max()/2 + 0.5)\n",
    "    axes.scatter(x, y,\n",
    "                 c=c, alpha=0.4, s=sr**2)\n",
    "\n",
    "    # Title to display header if exists\n",
    "    axes.set_title(header, fontsize=axistitlesize, fontweight='bold',\n",
    "                   color='white')\n",
    "    \n",
    "    # X ticks denoting timestamps\n",
    "    date_ticks = create_date_ticks(df, N=20)\n",
    "    axes.set_xticks(date_ticks)\n",
    "    axes.set_xticklabels(date_ticks, rotation=62, ha='center')\n",
    "    axes.xaxis.set_major_formatter(date_format)\n",
    "    axes.set_xlim(date_ticks[0], date_ticks[-1])\n",
    "    \n",
    "    xlabel = 'Timestamp of ping | Target : {0}'.format(df['Host IP'].values[0])\n",
    "    axes.set_xlabel(xlabel, fontsize=axislabelsize, fontweight='bold',\n",
    "                    color='white')\n",
    "    axes.tick_params(axis='x', which='major', labelsize=axisticksize_date,\n",
    "                     colors='white', pad=10)\n",
    "    \n",
    "    # Y ticks denoting ping in [ms]\n",
    "    loc = plticker.MultipleLocator(base=base) # this locator puts ticks at regular intervals\n",
    "    axes.yaxis.set_major_locator(loc)\n",
    "    axes.set_ylabel('Ping [ms]', fontsize=axislabelsize, fontweight='bold',\n",
    "                    color='white')\n",
    "    axes.tick_params(axis='y', which='major', labelsize=axisticksize_y,\n",
    "                     colors='white', pad=10)\n",
    "\n",
    "    plt.show()"
   ]
  },
  {
   "cell_type": "code",
   "execution_count": null,
   "metadata": {},
   "outputs": [],
   "source": [
    "visualize_ping_series(df=df_1, header=header_1)"
   ]
  },
  {
   "cell_type": "code",
   "execution_count": null,
   "metadata": {},
   "outputs": [],
   "source": [
    "visualize_ping_series(df=df_2, header=header_2)"
   ]
  },
  {
   "cell_type": "code",
   "execution_count": null,
   "metadata": {},
   "outputs": [],
   "source": [
    "visualize_ping_series(df=df_3, header=header_3, base=10)"
   ]
  },
  {
   "cell_type": "markdown",
   "metadata": {},
   "source": [
    "## 2./b. Visualize histogram of pings"
   ]
  },
  {
   "cell_type": "code",
   "execution_count": null,
   "metadata": {},
   "outputs": [],
   "source": [
    "from scipy.stats import gaussian_kde"
   ]
  },
  {
   "cell_type": "code",
   "execution_count": null,
   "metadata": {},
   "outputs": [],
   "source": [
    "def visualize_ping_histograms(df, header=None, bins=20):\n",
    "    \n",
    "    fig, axes = plt.subplots(figsize=(fig_x,fig_y),\n",
    "                             facecolor='black', subplot_kw={'facecolor' : 'black'})\n",
    "    # Obviously use a logarithmic y axis\n",
    "    axes.set_yscale('log')\n",
    "    \n",
    "    x = df['Ping [ms]']\n",
    "    \n",
    "    # Create histogram\n",
    "    hist, bins = np.histogram(x, bins=bins, density=True)\n",
    "    width = 1 * (bins[1] - bins[0])\n",
    "    center = (bins[:-1] + bins[1:]) / 2\n",
    "    \n",
    "    # Calculate KDE\n",
    "    # Create density plot\n",
    "    density = gaussian_kde(x)\n",
    "    density.covariance_factor = lambda : 0.25\n",
    "    density._compute_covariance()\n",
    "    xs = np.linspace(int(x.min()), int(x.max()) + 1, 100)\n",
    "    ys = density(xs)\n",
    "    \n",
    "    axes.bar(center, hist / hist.sum(), width=width, label='Histogram with {} bins'.format(len(hist)),\n",
    "             color=cm.magma(0.93), ec='black', alpha=0.8)\n",
    "    axes.plot(xs, (ys / hist.sum()), label='Gaussian KDE',\n",
    "          color=rocket_cmap(0.65), lw=5, ls='-', alpha=0.6)\n",
    "    \n",
    "    # Title to display header if exists\n",
    "    axes.set_title(header, fontsize=axistitlesize, fontweight='bold',\n",
    "                   color='white')\n",
    "    \n",
    "    # X ticks denoting ping in [ms]\n",
    "    loc = plticker.MultipleLocator(base=5.0) # this locator puts ticks at regular intervals\n",
    "    axes.xaxis.set_major_locator(loc)\n",
    "    xlabel = 'Ping [ms] | Target : {0}'.format(df['Host IP'].values[0])\n",
    "    axes.set_xlabel(xlabel, fontsize=axislabelsize, fontweight='bold',\n",
    "                    color='white')\n",
    "    axes.tick_params(axis='x', which='major', labelsize=axisticksize_y,\n",
    "                     colors='white', pad=10, labelrotation=42)\n",
    "    \n",
    "    # Y ticks denoting relative occurence of pings\n",
    "    axes.set_ylabel('Relative occurence', fontsize=axislabelsize, fontweight='bold',\n",
    "                    color='white')\n",
    "    axes.tick_params(axis='y', which='major', labelsize=axisticksize_y,\n",
    "                     colors='white', pad=10)\n",
    "    axes.set_ylim(1e-6, 1.1)\n",
    "\n",
    "    axes.legend(loc='upper right', fontsize=axislegendsize)\n",
    "    \n",
    "    plt.show()"
   ]
  },
  {
   "cell_type": "code",
   "execution_count": null,
   "metadata": {},
   "outputs": [],
   "source": [
    "visualize_ping_histograms(df=df_1, header=header_1, bins=50)"
   ]
  },
  {
   "cell_type": "code",
   "execution_count": null,
   "metadata": {},
   "outputs": [],
   "source": [
    "visualize_ping_histograms(df=df_2, header=header_2, bins=50)"
   ]
  },
  {
   "cell_type": "code",
   "execution_count": null,
   "metadata": {},
   "outputs": [],
   "source": [
    "visualize_ping_histograms(df=df_3, header=header_3, bins=50)"
   ]
  },
  {
   "cell_type": "code",
   "execution_count": null,
   "metadata": {},
   "outputs": [],
   "source": []
  }
 ],
 "metadata": {
  "kernelspec": {
   "display_name": "Python 3 (ipykernel)",
   "language": "python",
   "name": "python3"
  },
  "language_info": {
   "codemirror_mode": {
    "name": "ipython",
    "version": 3
   },
   "file_extension": ".py",
   "mimetype": "text/x-python",
   "name": "python",
   "nbconvert_exporter": "python",
   "pygments_lexer": "ipython3",
   "version": "3.9.10"
  }
 },
 "nbformat": 4,
 "nbformat_minor": 4
}
